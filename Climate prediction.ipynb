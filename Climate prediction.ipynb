{
 "cells": [
  {
   "cell_type": "code",
   "execution_count": 4,
   "id": "b92fac7a",
   "metadata": {
    "scrolled": false
   },
   "outputs": [
    {
     "ename": "AttributeError",
     "evalue": "type object 'Warning' has no attribute 'ignore'",
     "output_type": "error",
     "traceback": [
      "\u001b[1;31m---------------------------------------------------------------------------\u001b[0m",
      "\u001b[1;31mAttributeError\u001b[0m                            Traceback (most recent call last)",
      "Cell \u001b[1;32mIn[4], line 11\u001b[0m\n\u001b[0;32m      8\u001b[0m \u001b[38;5;28;01mfrom\u001b[39;00m \u001b[38;5;21;01mIPython\u001b[39;00m\u001b[38;5;21;01m.\u001b[39;00m\u001b[38;5;21;01mdisplay\u001b[39;00m \u001b[38;5;28;01mimport\u001b[39;00m display\n\u001b[0;32m      9\u001b[0m \u001b[38;5;28;01mimport\u001b[39;00m \u001b[38;5;21;01mwarnings\u001b[39;00m\n\u001b[1;32m---> 11\u001b[0m warnings \u001b[38;5;241m=\u001b[39m \u001b[38;5;167;43;01mWarning\u001b[39;49;00m\u001b[38;5;241;43m.\u001b[39;49m\u001b[43mignore\u001b[49m()\n\u001b[0;32m     13\u001b[0m \u001b[38;5;66;03m# Load the datasets\u001b[39;00m\n\u001b[0;32m     14\u001b[0m train_df \u001b[38;5;241m=\u001b[39m pd\u001b[38;5;241m.\u001b[39mread_csv(\u001b[38;5;124m'\u001b[39m\u001b[38;5;124mClimate prediction.csv\u001b[39m\u001b[38;5;124m'\u001b[39m)\n",
      "\u001b[1;31mAttributeError\u001b[0m: type object 'Warning' has no attribute 'ignore'"
     ]
    }
   ],
   "source": [
    "# Import necessary libraries\n",
    "import pandas as pd\n",
    "import matplotlib.pyplot as plt\n",
    "import seaborn as sns\n",
    "from sklearn.ensemble import GradientBoostingRegressor\n",
    "from sklearn.metrics import mean_squared_error\n",
    "import ipywidgets as widgets\n",
    "from IPython.display import display\n",
    "import warnings\n",
    "\n",
    "\n",
    "# Load the datasets\n",
    "train_df = pd.read_csv('Climate prediction.csv')\n",
    "test_df = pd.read_csv('Climate prediction test.csv')\n",
    "\n",
    "# Convert 'date' to datetime format, extract the year, then drop 'date'\n",
    "train_df['date'] = pd.to_datetime(train_df['date'])\n",
    "test_df['date'] = pd.to_datetime(test_df['date'])\n",
    "train_df['year'] = train_df['date'].dt.year\n",
    "test_df['year'] = test_df['date'].dt.year\n",
    "train_df.drop('date', axis=1, inplace=True)\n",
    "test_df.drop('date', axis=1, inplace=True)\n",
    "\n",
    "# Visualization\n",
    "def visualize_data(df):\n",
    "    sns.pairplot(df)\n",
    "    plt.show()\n",
    "\n",
    "    plt.figure(figsize=(8, 6))\n",
    "    sns.heatmap(df.corr(), annot=True, cmap='coolwarm')\n",
    "    plt.show()\n",
    "\n",
    "# Visualize the training data\n",
    "visualize_data(train_df)\n",
    "\n",
    "# Train model\n",
    "X_train = train_df.drop('meantemp', axis=1)\n",
    "y_train = train_df['meantemp']\n",
    "X_test = test_df.drop('meantemp', axis=1)\n",
    "y_test = test_df['meantemp']\n",
    "\n",
    "model = GradientBoostingRegressor()\n",
    "model.fit(X_train, y_train)\n",
    "\n",
    "# Interactive widgets for prediction, adjusted for the year 2023 to 2040\n",
    "humidity_slider = widgets.FloatSlider(value=80, min=0, max=100, step=1, description='Humidity:')\n",
    "wind_speed_slider = widgets.FloatSlider(value=5, min=0, max=100, step=0.1, description='Wind Speed:')\n",
    "meanpressure_slider = widgets.FloatSlider(value=1010, min=900, max=1100, step=1, description='Mean Pressure:')\n",
    "year_slider = widgets.IntSlider(value=2023, min=2023, max=2040, step=1, description='Year:') # Updated range\n",
    "predict_button = widgets.Button(description=\"Predict Temperature\")\n",
    "output = widgets.Output()\n",
    "\n",
    "def predict_temperature(humidity, wind_speed, meanpressure, year):\n",
    "    new_data = [[humidity, wind_speed, meanpressure, year]]\n",
    "    predicted_temperature = model.predict(new_data)\n",
    "    return predicted_temperature[0]\n",
    "\n",
    "def on_predict_button_clicked(b):\n",
    "    with output:\n",
    "        output.clear_output()\n",
    "        humidity = humidity_slider.value\n",
    "        wind_speed = wind_speed_slider.value\n",
    "        meanpressure = meanpressure_slider.value\n",
    "        year = year_slider.value\n",
    "        predicted_temp = predict_temperature(humidity, wind_speed, meanpressure, year)\n",
    "        print(f\"Predicted Mean Temperature for {year}: {predicted_temp:.2f}°C\")\n",
    "\n",
    "predict_button.on_click(on_predict_button_clicked)\n",
    "\n",
    "# Display widgets\n",
    "widgets_to_display = [humidity_slider, wind_speed_slider, meanpressure_slider, year_slider, predict_button, output]\n",
    "display(*widgets_to_display)\n",
    "\n"
   ]
  }
 ],
 "metadata": {
  "kernelspec": {
   "display_name": "Python 3 (ipykernel)",
   "language": "python",
   "name": "python3"
  },
  "language_info": {
   "codemirror_mode": {
    "name": "ipython",
    "version": 3
   },
   "file_extension": ".py",
   "mimetype": "text/x-python",
   "name": "python",
   "nbconvert_exporter": "python",
   "pygments_lexer": "ipython3",
   "version": "3.12.1"
  }
 },
 "nbformat": 4,
 "nbformat_minor": 5
}
